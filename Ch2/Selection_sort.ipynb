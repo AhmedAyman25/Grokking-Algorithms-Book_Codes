{
 "cells": [
  {
   "cell_type": "code",
   "execution_count": null,
   "id": "3992cc88-4a43-457b-a99d-2967b6248930",
   "metadata": {},
   "outputs": [],
   "source": [
    "# if you want to store multiple elements there are two basics ways to do that:\n",
    "# Array => means all your items are stored contiguously in memory\n",
    "# Linked-list => means your items can be anywhere in memory   "
   ]
  },
  {
   "cell_type": "code",
   "execution_count": 2,
   "id": "26bed431-da15-4372-9915-2c6bda205472",
   "metadata": {},
   "outputs": [],
   "source": [
    "def findSmallestItem(arr):\n",
    "    smallest_item = arr[0]\n",
    "    smallest_index = 0\n",
    "    for item in range(1,len(arr)):\n",
    "        if(arr[item]<smallest_item):\n",
    "            smallest_item = arr[item]\n",
    "            smallest_index= item\n",
    "    return smallest_index"
   ]
  },
  {
   "cell_type": "code",
   "execution_count": 3,
   "id": "d5a349bd-b832-464b-979b-46cdf4c4dad2",
   "metadata": {},
   "outputs": [
    {
     "data": {
      "text/plain": [
       "8"
      ]
     },
     "execution_count": 3,
     "metadata": {},
     "output_type": "execute_result"
    }
   ],
   "source": [
    "arr = [2,4,5,8,9,6,3,2,0,1,55]\n",
    "findSmallestItem(arr)"
   ]
  },
  {
   "cell_type": "code",
   "execution_count": 4,
   "id": "968b31e3-463b-4504-af5a-225d25d6449d",
   "metadata": {},
   "outputs": [],
   "source": [
    "def selection_Sort(arr):\n",
    "    sorted_Array = []\n",
    "    for item in range(len(arr)):\n",
    "        smallest = findSmallestItem(arr)\n",
    "        sorted_Array.append(arr.pop(smallest))\n",
    "    return sorted_Array"
   ]
  },
  {
   "cell_type": "code",
   "execution_count": 5,
   "id": "fb3ce2fd-0ef1-4a49-8337-d39dc7451f33",
   "metadata": {},
   "outputs": [
    {
     "data": {
      "text/plain": [
       "[0, 1, 2, 2, 3, 4, 5, 6, 8, 9, 55]"
      ]
     },
     "execution_count": 5,
     "metadata": {},
     "output_type": "execute_result"
    }
   ],
   "source": [
    "selection_Sort(arr)"
   ]
  },
  {
   "cell_type": "code",
   "execution_count": null,
   "id": "c093a480-a88c-49d8-bc3b-e90f623a54dc",
   "metadata": {},
   "outputs": [],
   "source": []
  }
 ],
 "metadata": {
  "kernelspec": {
   "display_name": "Python 3",
   "language": "python",
   "name": "python3"
  },
  "language_info": {
   "codemirror_mode": {
    "name": "ipython",
    "version": 3
   },
   "file_extension": ".py",
   "mimetype": "text/x-python",
   "name": "python",
   "nbconvert_exporter": "python",
   "pygments_lexer": "ipython3",
   "version": "3.8.8"
  }
 },
 "nbformat": 4,
 "nbformat_minor": 5
}
