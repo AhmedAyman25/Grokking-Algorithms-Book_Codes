{
 "cells": [
  {
   "cell_type": "code",
   "execution_count": 9,
   "id": "bd6a3982-a371-4462-bb70-69a42d9c2af8",
   "metadata": {},
   "outputs": [],
   "source": [
    "def binary_search(list , item):\n",
    "    low = 0\n",
    "    high = len(list)-1\n",
    "    while(low<=high):\n",
    "        mid  = (low+high)//2\n",
    "        guess = list[mid]\n",
    "        if(guess == item):\n",
    "            return mid\n",
    "        if(guess < item):\n",
    "            low = mid + 1\n",
    "        else:\n",
    "            high = mid - 1\n",
    "    return None"
   ]
  },
  {
   "cell_type": "code",
   "execution_count": 12,
   "id": "7b693fa6-56cd-4024-8395-ff5f870cabe0",
   "metadata": {},
   "outputs": [
    {
     "name": "stdout",
     "output_type": "stream",
     "text": [
      " the item in pos: None\n"
     ]
    }
   ],
   "source": [
    " list = [1,2,3,4,5,6,7,8,9]\n",
    "print(\" the item in pos: \"+ str(binary_search(list,88)))"
   ]
  },
  {
   "cell_type": "code",
   "execution_count": null,
   "id": "39ac6d28-40f8-4f21-b6b0-9d24d023aa19",
   "metadata": {},
   "outputs": [],
   "source": []
  }
 ],
 "metadata": {
  "kernelspec": {
   "display_name": "Python 3",
   "language": "python",
   "name": "python3"
  },
  "language_info": {
   "codemirror_mode": {
    "name": "ipython",
    "version": 3
   },
   "file_extension": ".py",
   "mimetype": "text/x-python",
   "name": "python",
   "nbconvert_exporter": "python",
   "pygments_lexer": "ipython3",
   "version": "3.8.8"
  }
 },
 "nbformat": 4,
 "nbformat_minor": 5
}
